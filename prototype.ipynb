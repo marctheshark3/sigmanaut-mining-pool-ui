{
 "cells": [
  {
   "cell_type": "code",
   "execution_count": 22,
   "id": "e0160c78-59fe-4756-98d7-240d9d35e2ca",
   "metadata": {},
   "outputs": [],
   "source": [
    "from utils.find_miner_id import ReadTokens\n",
    "import json\n",
    "from datetime import datetime\n"
   ]
  },
  {
   "cell_type": "code",
   "execution_count": 32,
   "id": "45732b63-8ca3-499e-bc0e-080139338f32",
   "metadata": {},
   "outputs": [],
   "source": [
    "def calculate_pplns_participation(shares_data, block_data, n_factor):\n",
    "    # Sort shares by blockheight in descending order\n",
    "    shares_data.sort(key=lambda x: x['blockheight'], reverse=True)\n",
    "    block_height = block_data['blockheight']\n",
    "    network_difficulty = block_data['networkdifficulty']\n",
    "    \n",
    "    target_shares = network_difficulty * n_factor\n",
    "    print(network_difficulty, 'net diff', target_shares, 'target shares')\n",
    "\n",
    "    # Initialize variables\n",
    "    total_shares = 0\n",
    "    valid_shares = []\n",
    "    miner_shares = {}\n",
    "\n",
    "    # Collect shares until we reach or exceed the target\n",
    "    for share in shares_data:\n",
    "        \n",
    "        if share['blockheight'] > block_height:\n",
    "            continue\n",
    "\n",
    "        valid_shares.append(share)\n",
    "        total_shares += share['difficulty']\n",
    "\n",
    "        miner = share['miner']\n",
    "        if miner not in miner_shares:\n",
    "            miner_shares[miner] = 0\n",
    "        miner_shares[miner] += share['difficulty']\n",
    "\n",
    "        if total_shares >= target_shares:\n",
    "            print(share, 'share')\n",
    "            break\n",
    "\n",
    "    # Calculate participation percentages\n",
    "    participation = {miner: shares / total_shares for miner, shares in miner_shares.items()}\n",
    "\n",
    "    return participation, total_shares"
   ]
  },
  {
   "cell_type": "code",
   "execution_count": 24,
   "id": "98aa54b2-25f7-4c03-b69b-0c3a507f6e64",
   "metadata": {},
   "outputs": [],
   "source": [
    "reader = ReadTokens()\n",
    "# Set the N factor (this could be user-defined)\n",
    "n_factor = 0.5  # For example, 2 times the network difficulty\n"
   ]
  },
  {
   "cell_type": "code",
   "execution_count": 25,
   "id": "f76d5a73-31be-422b-851a-4e2c1a5397fb",
   "metadata": {},
   "outputs": [
    {
     "data": {
      "text/plain": [
       "({'poolid': 'ErgoSigmanauts',\n",
       "  'blockheight': 1369762,\n",
       "  'difficulty': 0.010991475941720133,\n",
       "  'networkdifficulty': 224470.58289740514,\n",
       "  'miner': '9fBmHyFqdegV7a8z4bG9KEPXPM3JunVS52TrsQBBxQhjy4pdUq2',\n",
       "  'worker': '6x_MIXED',\n",
       "  'useragent': 'Rigel/1.18.2',\n",
       "  'ipaddress': '::ffff:78.157.8.17',\n",
       "  'source': 'ErgoSigmanauts',\n",
       "  'created': '2024-10-09T10:54:57.104188+00:00'},\n",
       " {'poolid': 'Shark-Dev-Pool',\n",
       "  'blockheight': 1364736,\n",
       "  'difficulty': 0.010449310109866801,\n",
       "  'networkdifficulty': 246939.2640119879,\n",
       "  'miner': '9ehJZvPDgvCNNd2zTQHxnSpcCAtb1kHbEN1VAgeoRD5DPVApYkk',\n",
       "  'worker': 'MT-MASSIVE',\n",
       "  'useragent': 'teamredminer/0.10.21',\n",
       "  'ipaddress': '::ffff:216.147.121.136',\n",
       "  'source': 'Shark-Dev-Pool',\n",
       "  'created': '2024-10-02T09:43:37.652364+00:00'})"
      ]
     },
     "execution_count": 25,
     "metadata": {},
     "output_type": "execute_result"
    }
   ],
   "source": [
    "shares_data = reader.get_api_data('http://5.78.102.130:8000/miningcore/shares')\n",
    "tshares_data = reader.get_api_data('http://188.245.66.57:8000/miningcore/shares')\n",
    "\n",
    "shares_data[0], tshares_data[0]"
   ]
  },
  {
   "cell_type": "code",
   "execution_count": 26,
   "id": "bf88d217-0b0e-4f00-a958-de608b9c212d",
   "metadata": {},
   "outputs": [
    {
     "data": {
      "text/plain": [
       "({'id': 1,\n",
       "  'poolid': 'ErgoSigmanauts',\n",
       "  'blockheight': 1345216,\n",
       "  'networkdifficulty': 225936.58304610793,\n",
       "  'status': 'confirmed',\n",
       "  'type': None,\n",
       "  'confirmationprogress': 1.0,\n",
       "  'effort': 0.028338019989095103,\n",
       "  'transactionconfirmationdata': '5003003396d03cee',\n",
       "  'miner': '9ehJZvPDgvCNNd2zTQHxnSpcCAtb1kHbEN1VAgeoRD5DPVApYkk',\n",
       "  'reward': 24.014597512,\n",
       "  'source': 'ErgoSigmanauts',\n",
       "  'hash': 'cac7398ad047d11b9595c10666b04f0ec1d710e1b560bc13e40e1d2c345890a5',\n",
       "  'created': '2024-09-05T00:57:19.492068+00:00'},\n",
       " {'id': 2,\n",
       "  'poolid': 'Shark-Dev-Pool',\n",
       "  'blockheight': 1364656,\n",
       "  'networkdifficulty': 246939.2640119879,\n",
       "  'status': 'confirmed',\n",
       "  'type': None,\n",
       "  'confirmationprogress': 1.0,\n",
       "  'effort': 4.846233239117975,\n",
       "  'transactionconfirmationdata': 'c00a9835c0ca8e2e',\n",
       "  'miner': '9ehJZvPDgvCNNd2zTQHxnSpcCAtb1kHbEN1VAgeoRD5DPVApYkk',\n",
       "  'reward': 24.019210101,\n",
       "  'source': 'Shark-Dev-Pool',\n",
       "  'hash': '1a28de327dd4617e2b6f0640ffb5f4f1e86c711f6072359d73db283f6d56a64f',\n",
       "  'created': '2024-10-02T06:54:53.500670+00:00'})"
      ]
     },
     "execution_count": 26,
     "metadata": {},
     "output_type": "execute_result"
    }
   ],
   "source": [
    "# Load block data\n",
    "block_data = reader.get_api_data('http://5.78.102.130:8000/miningcore/blocks')\n",
    "tblock_data = reader.get_api_data('http://188.245.66.57:8000/miningcore/blocks')\n",
    "block_data[0], tblock_data[0]"
   ]
  },
  {
   "cell_type": "code",
   "execution_count": 33,
   "id": "67d9488c-a314-41f6-acbd-e54240b8cf41",
   "metadata": {},
   "outputs": [
    {
     "name": "stdout",
     "output_type": "stream",
     "text": [
      "205208.88674544086 net diff 102604.44337272043 target shares\n",
      "Participation for block 1369627 (N factor: 0.5):\n",
      "TOTAL SHARES: 2941.0713194915375\n",
      "Miner 9hwEKqgW4XjRi7uYjRcsZHiRiuNT3dMHsR3J75BNSrGDQyKuz8Q: 2.06%\n",
      "Miner 9eoPRhRmJQ71TPSkk2eUmMXYpxUVvZvFQo5uB9qjPBM4e3hC82J: 1.87%\n",
      "Miner 9feNRbYuVz2nQy1V8t2z5saYnWKwmGJ2nYgcMdXBjqYXqHMeWnv: 0.38%\n",
      "Miner 9gNEKbpPSNfgWkhxsMF4Z9L7uNiXFfsEX4XTVF5XK4kwpQBRsEQ: 50.46%\n",
      "Miner 9fLytFFzTYALknc2AZ2dRKeg8sLZwe4LX5qAB3FwDysMEeRTHkV: 1.42%\n",
      "Miner 9fy4KkHt9Xavq9R7Wq16euW4JjH1mYwBtV7SNNtAtwnQ6qSZL4w: 1.03%\n",
      "Miner 9fBmHyFqdegV7a8z4bG9KEPXPM3JunVS52TrsQBBxQhjy4pdUq2: 4.40%\n",
      "Miner 9gLMeVQbDWX522WUzBwmVnr2Avqki7wdz7c9MpcpkgVJE5DUhcN: 2.51%\n",
      "Miner 9hSk13XDU8keWAp3KxKSgUVCkfDcw577jAjM6SgbRpuYeL8ygPH: 1.33%\n",
      "Miner 9fRJtg8m4Tgurq8cMSMs2m1pMk4MW3GHk8eLU6wuKUDm4edRioN: 3.99%\n",
      "Miner 9f3FRr4XudxVs1V35At1X5yj7LmQmnWqG46LqFKVNRf2TuYsAik: 7.03%\n",
      "Miner 9fyDqkVk3iDXPNcquyLBehEtiZiqdKb27PnugemJEpGYbTJM7tN: 1.62%\n",
      "Miner 9fRQ8iCiCZekAewtjHmu7AmucWjvBTNUMeBFtnNkpfyWsNLUuxo: 3.67%\n",
      "Miner 9fNJdGEeXiunSW4tFXG2jKhHrH26Z5RHMCsJw59ko1VqwqFioSH: 1.28%\n",
      "Miner 9huJB2vNVSB5RFHEf2ojtduogxdxv12A436FzLeXXekhCooeZFW: 0.48%\n",
      "Miner 9hqgwPRXRYsMst1AgNNUXmgQu8vkPGGtEoxfAcBwmyTNApyuUL2: 0.27%\n",
      "Miner 9f4WEgtBoWrtMa4HoUmxA3NSeWMU9PZRvArVGrSS3whSWfGDBoY: 0.60%\n",
      "Miner 9h6bjuzth7XDNeBxwFjpYSfmUkfBiepE8MGJcvmsVkeCtGYYYAb: 4.48%\n",
      "Miner 9gTjFZQ3FxRbg5mZzheFrNHokudRPRJQk5PcdseSZuC6U6oqgjk: 0.96%\n",
      "Miner 9iA2SfE5ADugiMFkiL5YDM7893m4fZj47JJsR4LmkdLRqc7JeLB: 0.25%\n",
      "Miner 9gwk97nY8Uc6kLcSYs4ueWttY5EKyfsrbiyVQWFdUaWvd4Xhqys: 1.63%\n",
      "Miner 9f26fcLvpCkcJyY9SLXMMRZ2k3GeKxb8bERTE7cVp1SC3Xb1SZc: 2.48%\n",
      "Miner 9ggYKoC58jQkbGNhCKqcLMsuK3qCE5ieqTPx28KrY5jJ5SemSuT: 0.40%\n",
      "Miner 9gwjyPyHTKSvmtwxwKAzdywSF9HqvwJmrX9cijeftV56d176Tpt: 0.12%\n",
      "Miner 9gdYxEVVQKpMbL6KpUqHAz8icPggw9xwAi7Q6WnrKL9fYbKtZ6c: 0.72%\n",
      "Miner 9iGCyowxwgf6cQef1RfEw6UCYoHJi6q1hZvKvcWyFY1kuLNVE7S: 0.28%\n",
      "Miner 9g4f585vPtgA5PKhSRcaPBhtfW3HYRw2qe3aemxxnD5Y1KiopyX: 0.68%\n",
      "Miner 9gWtU5oRt4yuNU4WELRAHm49CCpwtRoVRkjs1DQkoKZmEuhcvT1: 0.54%\n",
      "Miner 9i8wsL9HYe4wRtuxXtnvki31uGJd6avKoQ79BXbz2sHWNZSKz8K: 0.87%\n",
      "Miner 9hDJ91Rx5TZf4njCG6AAcsf4GEWyQxrh5ioZ95mXQk8QtCNv8Js: 1.33%\n",
      "Miner 9f5vwtxyRP87wmc8ezyKbL7ryaNhDrgWUVBEZpQKnw16SWceKR9: 0.50%\n",
      "Miner 9gW4BxS6x8pF7BVMsE2VPpKTEHaDB9Nw1mp6MEpn5MWAmXuKpXg: 0.04%\n",
      "Miner 9edaf7T2rmMtztgDtTBPWh9yMuDNaGNWFHhuYFrPCvHsnjDEwJQ: 0.02%\n",
      "Miner 9hVtaEH6EZjozJVd6jGGQsGF25Ycsitndeqnc5XugPXDzAtHFoH: 0.31%\n",
      "\n",
      "Reward distribution for block reward of 21.02:\n",
      "Miner 9hwEKqgW4XjRi7uYjRcsZHiRiuNT3dMHsR3J75BNSrGDQyKuz8Q: 0.43320810\n",
      "Miner 9eoPRhRmJQ71TPSkk2eUmMXYpxUVvZvFQo5uB9qjPBM4e3hC82J: 0.39320645\n",
      "Miner 9feNRbYuVz2nQy1V8t2z5saYnWKwmGJ2nYgcMdXBjqYXqHMeWnv: 0.07911659\n",
      "Miner 9gNEKbpPSNfgWkhxsMF4Z9L7uNiXFfsEX4XTVF5XK4kwpQBRsEQ: 10.60641392\n",
      "Miner 9fLytFFzTYALknc2AZ2dRKeg8sLZwe4LX5qAB3FwDysMEeRTHkV: 0.29757914\n",
      "Miner 9fy4KkHt9Xavq9R7Wq16euW4JjH1mYwBtV7SNNtAtwnQ6qSZL4w: 0.21647333\n",
      "Miner 9fBmHyFqdegV7a8z4bG9KEPXPM3JunVS52TrsQBBxQhjy4pdUq2: 0.92420086\n",
      "Miner 9gLMeVQbDWX522WUzBwmVnr2Avqki7wdz7c9MpcpkgVJE5DUhcN: 0.52835867\n",
      "Miner 9hSk13XDU8keWAp3KxKSgUVCkfDcw577jAjM6SgbRpuYeL8ygPH: 0.28032923\n",
      "Miner 9fRJtg8m4Tgurq8cMSMs2m1pMk4MW3GHk8eLU6wuKUDm4edRioN: 0.83813214\n",
      "Miner 9f3FRr4XudxVs1V35At1X5yj7LmQmnWqG46LqFKVNRf2TuYsAik: 1.47873675\n",
      "Miner 9fyDqkVk3iDXPNcquyLBehEtiZiqdKb27PnugemJEpGYbTJM7tN: 0.34123224\n",
      "Miner 9fRQ8iCiCZekAewtjHmu7AmucWjvBTNUMeBFtnNkpfyWsNLUuxo: 0.77071110\n",
      "Miner 9fNJdGEeXiunSW4tFXG2jKhHrH26Z5RHMCsJw59ko1VqwqFioSH: 0.26966223\n",
      "Miner 9huJB2vNVSB5RFHEf2ojtduogxdxv12A436FzLeXXekhCooeZFW: 0.10071490\n",
      "Miner 9hqgwPRXRYsMst1AgNNUXmgQu8vkPGGtEoxfAcBwmyTNApyuUL2: 0.05652065\n",
      "Miner 9f4WEgtBoWrtMa4HoUmxA3NSeWMU9PZRvArVGrSS3whSWfGDBoY: 0.12584628\n",
      "Miner 9h6bjuzth7XDNeBxwFjpYSfmUkfBiepE8MGJcvmsVkeCtGYYYAb: 0.94159740\n",
      "Miner 9gTjFZQ3FxRbg5mZzheFrNHokudRPRJQk5PcdseSZuC6U6oqgjk: 0.20204332\n",
      "Miner 9iA2SfE5ADugiMFkiL5YDM7893m4fZj47JJsR4LmkdLRqc7JeLB: 0.05332824\n",
      "Miner 9gwk97nY8Uc6kLcSYs4ueWttY5EKyfsrbiyVQWFdUaWvd4Xhqys: 0.34244125\n",
      "Miner 9f26fcLvpCkcJyY9SLXMMRZ2k3GeKxb8bERTE7cVp1SC3Xb1SZc: 0.52108513\n",
      "Miner 9ggYKoC58jQkbGNhCKqcLMsuK3qCE5ieqTPx28KrY5jJ5SemSuT: 0.08458328\n",
      "Miner 9gwjyPyHTKSvmtwxwKAzdywSF9HqvwJmrX9cijeftV56d176Tpt: 0.02601971\n",
      "Miner 9gdYxEVVQKpMbL6KpUqHAz8icPggw9xwAi7Q6WnrKL9fYbKtZ6c: 0.15113792\n",
      "Miner 9iGCyowxwgf6cQef1RfEw6UCYoHJi6q1hZvKvcWyFY1kuLNVE7S: 0.05798814\n",
      "Miner 9g4f585vPtgA5PKhSRcaPBhtfW3HYRw2qe3aemxxnD5Y1KiopyX: 0.14291034\n",
      "Miner 9gWtU5oRt4yuNU4WELRAHm49CCpwtRoVRkjs1DQkoKZmEuhcvT1: 0.11415636\n",
      "Miner 9i8wsL9HYe4wRtuxXtnvki31uGJd6avKoQ79BXbz2sHWNZSKz8K: 0.18210555\n",
      "Miner 9hDJ91Rx5TZf4njCG6AAcsf4GEWyQxrh5ioZ95mXQk8QtCNv8Js: 0.27854972\n",
      "Miner 9f5vwtxyRP87wmc8ezyKbL7ryaNhDrgWUVBEZpQKnw16SWceKR9: 0.10405082\n",
      "Miner 9gW4BxS6x8pF7BVMsE2VPpKTEHaDB9Nw1mp6MEpn5MWAmXuKpXg: 0.00910022\n",
      "Miner 9edaf7T2rmMtztgDtTBPWh9yMuDNaGNWFHhuYFrPCvHsnjDEwJQ: 0.00363019\n",
      "Miner 9hVtaEH6EZjozJVd6jGGQsGF25Ycsitndeqnc5XugPXDzAtHFoH: 0.06482983\n"
     ]
    }
   ],
   "source": [
    "\n",
    "# Set the N factor (this could be user-defined)\n",
    "n_factor = 0.5  # For example, 2 times the network difficulty\n",
    "\n",
    "block_data.sort(key=lambda x: x['blockheight'], reverse=True)\n",
    "blocks = {'blockheight': 1370030, #block_data[0]['blockheight'],\n",
    "          'networkdifficulty': block_data[0]['networkdifficulty']}\n",
    "    # network_difficulty = block_data[0]['networkdifficulty']\n",
    "# Calculate participation\n",
    "participation, total_shares = calculate_pplns_participation(shares_data, block_data, blocks, n_factor)\n",
    "\n",
    "# Print results\n",
    "print(f\"Participation for block {blocks['blockheight']} (N factor: {n_factor}):\")\n",
    "print('TOTAL SHARES: {}'.format(total_shares))\n",
    "for miner, percentage in participation.items():\n",
    "    print(f\"Miner {miner}: {percentage:.2%}\")\n",
    "\n",
    "# Optional: Calculate rewards\n",
    "block_reward = block_data[0]['reward']\n",
    "print(f\"\\nReward distribution for block reward of {block_reward}:\")\n",
    "for miner, percentage in participation.items():\n",
    "    miner_reward = block_reward * percentage\n",
    "    print(f\"Miner {miner}: {miner_reward:.8f}\")"
   ]
  },
  {
   "cell_type": "code",
   "execution_count": 34,
   "id": "6aa1f006-babe-49d0-8660-12db594484cd",
   "metadata": {},
   "outputs": [
    {
     "data": {
      "text/plain": [
       "{'9hwEKqgW4XjRi7uYjRcsZHiRiuNT3dMHsR3J75BNSrGDQyKuz8Q': 0.020609328983880293,\n",
       " '9eoPRhRmJQ71TPSkk2eUmMXYpxUVvZvFQo5uB9qjPBM4e3hC82J': 0.018706301101889096,\n",
       " '9feNRbYuVz2nQy1V8t2z5saYnWKwmGJ2nYgcMdXBjqYXqHMeWnv': 0.0037638720643013855,\n",
       " '9gNEKbpPSNfgWkhxsMF4Z9L7uNiXFfsEX4XTVF5XK4kwpQBRsEQ': 0.5045867708436039,\n",
       " '9fLytFFzTYALknc2AZ2dRKeg8sLZwe4LX5qAB3FwDysMEeRTHkV': 0.014156952388419663,\n",
       " '9fy4KkHt9Xavq9R7Wq16euW4JjH1mYwBtV7SNNtAtwnQ6qSZL4w': 0.010298445959613415,\n",
       " '9fBmHyFqdegV7a8z4bG9KEPXPM3JunVS52TrsQBBxQhjy4pdUq2': 0.04396769087614725,\n",
       " '9gLMeVQbDWX522WUzBwmVnr2Avqki7wdz7c9MpcpkgVJE5DUhcN': 0.0251359975888668,\n",
       " '9hSk13XDU8keWAp3KxKSgUVCkfDcw577jAjM6SgbRpuYeL8ygPH': 0.013336309542690107,\n",
       " '9fRJtg8m4Tgurq8cMSMs2m1pMk4MW3GHk8eLU6wuKUDm4edRioN': 0.03987307996086507,\n",
       " '9f3FRr4XudxVs1V35At1X5yj7LmQmnWqG46LqFKVNRf2TuYsAik': 0.07034903678605704,\n",
       " '9fyDqkVk3iDXPNcquyLBehEtiZiqdKb27PnugemJEpGYbTJM7tN': 0.016233693667686414,\n",
       " '9fRQ8iCiCZekAewtjHmu7AmucWjvBTNUMeBFtnNkpfyWsNLUuxo': 0.03666560888331407,\n",
       " '9fNJdGEeXiunSW4tFXG2jKhHrH26Z5RHMCsJw59ko1VqwqFioSH': 0.01282884072576905,\n",
       " '9huJB2vNVSB5RFHEf2ojtduogxdxv12A436FzLeXXekhCooeZFW': 0.004791384207676294,\n",
       " '9hqgwPRXRYsMst1AgNNUXmgQu8vkPGGtEoxfAcBwmyTNApyuUL2': 0.002688898617780076,\n",
       " '9f4WEgtBoWrtMa4HoUmxA3NSeWMU9PZRvArVGrSS3whSWfGDBoY': 0.005986977940223986,\n",
       " '9h6bjuzth7XDNeBxwFjpYSfmUkfBiepE8MGJcvmsVkeCtGYYYAb': 0.04479530915777305,\n",
       " '9gTjFZQ3FxRbg5mZzheFrNHokudRPRJQk5PcdseSZuC6U6oqgjk': 0.009611956200662937,\n",
       " '9iA2SfE5ADugiMFkiL5YDM7893m4fZj47JJsR4LmkdLRqc7JeLB': 0.002537024015128532,\n",
       " '9gwk97nY8Uc6kLcSYs4ueWttY5EKyfsrbiyVQWFdUaWvd4Xhqys': 0.01629121058038392,\n",
       " '9f26fcLvpCkcJyY9SLXMMRZ2k3GeKxb8bERTE7cVp1SC3Xb1SZc': 0.024789967950256675,\n",
       " '9ggYKoC58jQkbGNhCKqcLMsuK3qCE5ieqTPx28KrY5jJ5SemSuT': 0.004023942799673842,\n",
       " '9gwjyPyHTKSvmtwxwKAzdywSF9HqvwJmrX9cijeftV56d176Tpt': 0.0012378549163021648,\n",
       " '9gdYxEVVQKpMbL6KpUqHAz8icPggw9xwAi7Q6WnrKL9fYbKtZ6c': 0.007190196046781196,\n",
       " '9iGCyowxwgf6cQef1RfEw6UCYoHJi6q1hZvKvcWyFY1kuLNVE7S': 0.0027587126200643744,\n",
       " '9g4f585vPtgA5PKhSRcaPBhtfW3HYRw2qe3aemxxnD5Y1KiopyX': 0.006798779274597559,\n",
       " '9gWtU5oRt4yuNU4WELRAHm49CCpwtRoVRkjs1DQkoKZmEuhcvT1': 0.005430844981367413,\n",
       " '9i8wsL9HYe4wRtuxXtnvki31uGJd6avKoQ79BXbz2sHWNZSKz8K': 0.008663442099009593,\n",
       " '9hDJ91Rx5TZf4njCG6AAcsf4GEWyQxrh5ioZ95mXQk8QtCNv8Js': 0.01325165189187242,\n",
       " '9f5vwtxyRP87wmc8ezyKbL7ryaNhDrgWUVBEZpQKnw16SWceKR9': 0.0049500865194712805,\n",
       " '9gW4BxS6x8pF7BVMsE2VPpKTEHaDB9Nw1mp6MEpn5MWAmXuKpXg': 0.0004329314349244106,\n",
       " '9edaf7T2rmMtztgDtTBPWh9yMuDNaGNWFHhuYFrPCvHsnjDEwJQ': 0.00017270178976854056,\n",
       " '9hVtaEH6EZjozJVd6jGGQsGF25Ycsitndeqnc5XugPXDzAtHFoH': 0.003084197582183767}"
      ]
     },
     "execution_count": 34,
     "metadata": {},
     "output_type": "execute_result"
    }
   ],
   "source": [
    "participation"
   ]
  },
  {
   "cell_type": "code",
   "execution_count": 16,
   "id": "6b33e54a-1e96-4e78-a71e-8c690fafa09d",
   "metadata": {},
   "outputs": [],
   "source": [
    "a = 77.8\n",
    "b = 2.12\n",
    "c = 21.56\n",
    "\n",
    "total_shares = a + b + c"
   ]
  },
  {
   "cell_type": "code",
   "execution_count": 17,
   "id": "8effd54c-f469-417a-9196-c42fd6194f20",
   "metadata": {},
   "outputs": [
    {
     "data": {
      "text/plain": [
       "(0.7666535277887268, 0.020890815924320065, 0.21245565628695307)"
      ]
     },
     "execution_count": 17,
     "metadata": {},
     "output_type": "execute_result"
    }
   ],
   "source": [
    "a / total_shares, b / total_shares, c / total_shares"
   ]
  },
  {
   "cell_type": "code",
   "execution_count": null,
   "id": "295f4af8-40ec-4234-b373-4f17241a2d14",
   "metadata": {},
   "outputs": [],
   "source": []
  }
 ],
 "metadata": {
  "kernelspec": {
   "display_name": "Python 3 (ipykernel)",
   "language": "python",
   "name": "python3"
  },
  "language_info": {
   "codemirror_mode": {
    "name": "ipython",
    "version": 3
   },
   "file_extension": ".py",
   "mimetype": "text/x-python",
   "name": "python",
   "nbconvert_exporter": "python",
   "pygments_lexer": "ipython3",
   "version": "3.12.4"
  }
 },
 "nbformat": 4,
 "nbformat_minor": 5
}
